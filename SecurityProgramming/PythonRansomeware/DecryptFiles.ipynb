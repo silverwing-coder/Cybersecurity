{
 "cells": [
  {
   "cell_type": "markdown",
   "metadata": {},
   "source": [
    "<h3>File Decryption</h3>"
   ]
  },
  {
   "cell_type": "code",
   "execution_count": null,
   "metadata": {},
   "outputs": [],
   "source": [
    "#!/usr/bin/env python3\n",
    "\n",
    "import os\n",
    "from cryptography.fernet import Fernet\n",
    "\n",
    "files = []\n",
    "for file in os.listdir():\n",
    "    if file == \"FukeEncrypt.py\" or file== \"FileDecrypt.py\" or file == \"mykey.key\":\n",
    "        continue\n",
    "\n",
    "    if os.path.isfile(file):\n",
    "        files.append(file)\n",
    "\n",
    "# print(files)\n",
    "\n",
    "# key = Fernet.generate_key()\n",
    "# with open(\"thekey.key\", \"wb\") as thekey:\n",
    "#     thekey.write(key)\n",
    "\n",
    "with open(\"mykey.key\", \"rb\") as thekey:\n",
    "    key = thekey.read()\n",
    "\n",
    "secret_phrase = \"coffee\"\n",
    "user_phrase = input(\"Enter the secret phrase to decrypt your files\\n\")\n",
    "\n",
    "if user_phrase == secret_phrase:\n",
    "\n",
    "    for file in files:\n",
    "        with open(file, \"rb\") as thefile:\n",
    "            contents = thefile.read()\n",
    "        decrypted = Fernet(key).decrypt(contents)\n",
    "        print(decrypted)\n",
    "        # with open(file, \"wb\") as thefile\n",
    "\n",
    "        with open(file, \"wb\") as thefile:\n",
    "            thefile.write(decrypted)\n",
    "    print(\"Congrats. All files decrypted.\")\n",
    "else:\n",
    "    print(\"wrong secret phrase!. Treat me one more coffee.\")"
   ]
  }
 ],
 "metadata": {
  "kernelspec": {
   "display_name": "Python 3.10.5 64-bit",
   "language": "python",
   "name": "python3"
  },
  "language_info": {
   "name": "python",
   "version": "3.10.5"
  },
  "orig_nbformat": 4,
  "vscode": {
   "interpreter": {
    "hash": "826bbc0456aa5c9ad77f7d90256c442d489e70b4f04d159d205e9b6d80c05621"
   }
  }
 },
 "nbformat": 4,
 "nbformat_minor": 2
}
